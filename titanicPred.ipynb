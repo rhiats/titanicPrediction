{
  "nbformat": 4,
  "nbformat_minor": 0,
  "metadata": {
    "colab": {
      "provenance": [],
      "mount_file_id": "1l88JEgcQ92yi8ssQHa5lqaTzQ07-CwFg",
      "authorship_tag": "ABX9TyPk6y+QCXNsWD54dnSAAzio",
      "include_colab_link": true
    },
    "kernelspec": {
      "name": "python3",
      "display_name": "Python 3"
    },
    "language_info": {
      "name": "python"
    }
  },
  "cells": [
    {
      "cell_type": "markdown",
      "metadata": {
        "id": "view-in-github",
        "colab_type": "text"
      },
      "source": [
        "<a href=\"https://colab.research.google.com/github/rhiats/titanicPrediction/blob/main/titanicPred.ipynb\" target=\"_parent\"><img src=\"https://colab.research.google.com/assets/colab-badge.svg\" alt=\"Open In Colab\"/></a>"
      ]
    },
    {
      "cell_type": "markdown",
      "source": [
        "**Titanic - Machine Learning from Disaster**"
      ],
      "metadata": {
        "id": "Iidn9Mi9ChEK"
      }
    },
    {
      "cell_type": "code",
      "source": [
        "import pandas as pd"
      ],
      "metadata": {
        "id": "I4hj7nd2G8I5"
      },
      "execution_count": 1,
      "outputs": []
    },
    {
      "cell_type": "markdown",
      "source": [
        "**Exploring the Training Set**"
      ],
      "metadata": {
        "id": "d-SEIxaNGyef"
      }
    },
    {
      "cell_type": "code",
      "source": [
        "def duplicates(df,cols_lst):\n",
        "  \"\"\"\n",
        "    Return df of duplicate rows across specified across columns\n",
        "    https://www.statology.org/pandas-find-duplicates/\n",
        "\n",
        "    @p:\n",
        "    df (df): dataframe containing rows and columns (not empty)\n",
        "    cols (list): list of columns to ck for duplicates\n",
        "\n",
        "    @r:\n",
        "    dups_df (df): Dataframe containing the duplicate rows\n",
        "  \"\"\"\n",
        "\n",
        "  return df[df.duplicated(cols_lst)]"
      ],
      "metadata": {
        "id": "1zYminMHLoMJ"
      },
      "execution_count": 11,
      "outputs": []
    },
    {
      "cell_type": "code",
      "source": [
        "X=pd.read_csv(\"/content/drive/MyDrive/Colab Notebooks/titanicPrediction/input/train.csv\")\n",
        "y=X.Survived\n",
        "dupPassengers_df=duplicates(X,['PassengerId'])"
      ],
      "metadata": {
        "id": "J4rRsyggCpNo"
      },
      "execution_count": 15,
      "outputs": []
    },
    {
      "cell_type": "code",
      "source": [
        "print(\"The are {} duplicated passengers in the dataset\".format(int(dupPassengers_df.shape[0])))"
      ],
      "metadata": {
        "colab": {
          "base_uri": "https://localhost:8080/"
        },
        "id": "Bf7MKJIjHiTV",
        "outputId": "2b62e60d-1be9-464f-da7e-76f6321f6d31"
      },
      "execution_count": 14,
      "outputs": [
        {
          "output_type": "stream",
          "name": "stdout",
          "text": [
            "The are 0 duplicated passengers in the dataset\n"
          ]
        }
      ]
    },
    {
      "cell_type": "code",
      "source": [],
      "metadata": {
        "id": "nulOC0knIMdL"
      },
      "execution_count": null,
      "outputs": []
    }
  ]
}