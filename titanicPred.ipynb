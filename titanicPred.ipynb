{
  "nbformat": 4,
  "nbformat_minor": 0,
  "metadata": {
    "colab": {
      "provenance": [],
      "mount_file_id": "1l88JEgcQ92yi8ssQHa5lqaTzQ07-CwFg",
      "authorship_tag": "ABX9TyOtktfgN+CqQbS93iNZgnfq",
      "include_colab_link": true
    },
    "kernelspec": {
      "name": "python3",
      "display_name": "Python 3"
    },
    "language_info": {
      "name": "python"
    }
  },
  "cells": [
    {
      "cell_type": "markdown",
      "metadata": {
        "id": "view-in-github",
        "colab_type": "text"
      },
      "source": [
        "<a href=\"https://colab.research.google.com/github/rhiats/titanicPrediction/blob/main/titanicPred.ipynb\" target=\"_parent\"><img src=\"https://colab.research.google.com/assets/colab-badge.svg\" alt=\"Open In Colab\"/></a>"
      ]
    },
    {
      "cell_type": "markdown",
      "source": [
        "**Titanic - Machine Learning from Disaster**"
      ],
      "metadata": {
        "id": "Iidn9Mi9ChEK"
      }
    },
    {
      "cell_type": "code",
      "source": [],
      "metadata": {
        "id": "J4rRsyggCpNo"
      },
      "execution_count": null,
      "outputs": []
    }
  ]
}