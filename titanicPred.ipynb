{
  "nbformat": 4,
  "nbformat_minor": 0,
  "metadata": {
    "colab": {
      "provenance": [],
      "mount_file_id": "1l88JEgcQ92yi8ssQHa5lqaTzQ07-CwFg",
      "authorship_tag": "ABX9TyPP/TkC3GkLO9HHXfjtnbnv",
      "include_colab_link": true
    },
    "kernelspec": {
      "name": "python3",
      "display_name": "Python 3"
    },
    "language_info": {
      "name": "python"
    }
  },
  "cells": [
    {
      "cell_type": "markdown",
      "metadata": {
        "id": "view-in-github",
        "colab_type": "text"
      },
      "source": [
        "<a href=\"https://colab.research.google.com/github/rhiats/titanicPrediction/blob/main/titanicPred.ipynb\" target=\"_parent\"><img src=\"https://colab.research.google.com/assets/colab-badge.svg\" alt=\"Open In Colab\"/></a>"
      ]
    },
    {
      "cell_type": "markdown",
      "source": [
        "**Titanic - Machine Learning from Disaster**\n",
        "\n",
        "References:\n",
        "\n",
        "https://www.kaggle.com/competitions/titanic/data\n",
        "\n",
        "https://towardsdatascience.com/a-beginners-guide-to-kaggle-s-titanic-problem-3193cb56f6ca\n",
        "\n",
        "https://web.stanford.edu/class/archive/cs/cs109/cs109.1166/problem12.html\n",
        "\n",
        "https://anelmusic13.medium.com/how-to-score-top-3-in-kaggles-titanic-machine-learning-from-disaster-competition-13d056e262b1\n"
      ],
      "metadata": {
        "id": "Iidn9Mi9ChEK"
      }
    },
    {
      "cell_type": "code",
      "source": [
        "import pandas as pd\n",
        "import seaborn as sns\n",
        "import numpy as np\n",
        "import matplotlib.pyplot as plt"
      ],
      "metadata": {
        "id": "I4hj7nd2G8I5"
      },
      "execution_count": 36,
      "outputs": []
    },
    {
      "cell_type": "markdown",
      "source": [
        "**Exploring the Training Set**\n",
        "\n",
        "The are 891 passengers in the dataset. The dataset is relatively balanced with 40% of the passengers survival the catastrophe.\n",
        "\n",
        "Only three of the columns are missing values. The three columns are Ages, Cabin, and Embarked. There are 177 passengers missing Ages, 687 missing Cabin numbers, and 2 missing from Embarked."
      ],
      "metadata": {
        "id": "d-SEIxaNGyef"
      }
    },
    {
      "cell_type": "code",
      "source": [
        "def duplicates(df,cols_lst):\n",
        "  \"\"\"\n",
        "    Return df of duplicate rows across specified across columns\n",
        "    https://www.statology.org/pandas-find-duplicates/\n",
        "\n",
        "    @p:\n",
        "    df (df): dataframe containing rows and columns (not empty)\n",
        "    cols (list): list of columns to ck for duplicates\n",
        "\n",
        "    @r:\n",
        "    dups_df (df): Dataframe containing the duplicate rows\n",
        "  \"\"\"\n",
        "\n",
        "  return df[df.duplicated(cols_lst)]"
      ],
      "metadata": {
        "id": "1zYminMHLoMJ"
      },
      "execution_count": 37,
      "outputs": []
    },
    {
      "cell_type": "code",
      "source": [
        "X=pd.read_csv(\"/content/drive/MyDrive/Colab Notebooks/titanicPrediction/input/train.csv\")\n",
        "y=X.Survived\n",
        "X.drop(['Name', 'Ticket', 'Cabin','Embarked'], axis=1,inplace=True)\n",
        "dupPassengers_df=duplicates(X,['PassengerId'])"
      ],
      "metadata": {
        "id": "J4rRsyggCpNo"
      },
      "execution_count": 38,
      "outputs": []
    },
    {
      "cell_type": "code",
      "source": [
        "print(X.head())\n",
        "print(\"The are {} duplicated passengers in the dataset\".format(int(dupPassengers_df.shape[0])))\n",
        "print(\"The are {} passengers in the dataset\".format(int(X.shape[0])))"
      ],
      "metadata": {
        "colab": {
          "base_uri": "https://localhost:8080/"
        },
        "id": "Bf7MKJIjHiTV",
        "outputId": "7239f681-9846-478c-ecd0-e9140aefb8ce"
      },
      "execution_count": 39,
      "outputs": [
        {
          "output_type": "stream",
          "name": "stdout",
          "text": [
            "   PassengerId  Survived  Pclass     Sex   Age  SibSp  Parch     Fare\n",
            "0            1         0       3    male  22.0      1      0   7.2500\n",
            "1            2         1       1  female  38.0      1      0  71.2833\n",
            "2            3         1       3  female  26.0      0      0   7.9250\n",
            "3            4         1       1  female  35.0      1      0  53.1000\n",
            "4            5         0       3    male  35.0      0      0   8.0500\n",
            "The are 0 duplicated passengers in the dataset\n",
            "The are 891 passengers in the dataset\n"
          ]
        }
      ]
    },
    {
      "cell_type": "code",
      "source": [
        "def balanced(df):\n",
        "  \"\"\"\n",
        "    Percentage of passengers who survive v. not survive in the dataset\n",
        "    Balanced or Imbalanced Data\n",
        "\n",
        "    @p:\n",
        "      df (dataframe): Input dataframe\n",
        "  \"\"\"\n",
        "  df['Survival'] = np.where(df['Survived']==0, 'Died', 'Survived')\n",
        "\n",
        "  survival_ratio_df=(df[['Survival', 'PassengerId']].groupby('Survival').count()/int(df.shape[0]))*100\n",
        "\n",
        "  survival_ratio_df.reset_index(inplace=True)\n",
        "\n",
        "  survival_ratio_df.rename(columns={\"PassengerId\": \"Relative Frequency (%)\"}, inplace=True)\n",
        "\n",
        "  sns.barplot(data=survival_ratio_df, x='Survival', y=\"Relative Frequency (%)\", color=\"lightsteelblue\")\n",
        "\n",
        "  plt.savefig(\"/content/drive/MyDrive/Colab Notebooks/titanicPrediction/output/balanced.png\")\n",
        "\n",
        "balanced(X)"
      ],
      "metadata": {
        "id": "nulOC0knIMdL",
        "colab": {
          "base_uri": "https://localhost:8080/",
          "height": 449
        },
        "outputId": "eb8b3615-b218-4784-8304-c9b8030f898d"
      },
      "execution_count": 40,
      "outputs": [
        {
          "output_type": "display_data",
          "data": {
            "text/plain": [
              "<Figure size 640x480 with 1 Axes>"
            ],
            "image/png": "[encoded data removed]"
          },
          "metadata": {}
        }
      ]
    },
    {
      "cell_type": "code",
      "source": [
        "def nan_num(df):\n",
        "  \"\"\"\n",
        "    Return the number of nans per column in the data set.\n",
        "\n",
        "  \"\"\"\n",
        "  nan_count=df.isna().sum()\n",
        "  return nan_count\n",
        "nan_num(X)"
      ],
      "metadata": {
        "colab": {
          "base_uri": "https://localhost:8080/"
        },
        "id": "R6M5lFgIwpt9",
        "outputId": "f838a4c4-fbd5-4f2f-f7b9-5107e552239e"
      },
      "execution_count": 41,
      "outputs": [
        {
          "output_type": "execute_result",
          "data": {
            "text/plain": [
              "PassengerId      0\n",
              "Survived         0\n",
              "Pclass           0\n",
              "Sex              0\n",
              "Age            177\n",
              "SibSp            0\n",
              "Parch            0\n",
              "Fare             0\n",
              "Survival         0\n",
              "dtype: int64"
            ]
          },
          "metadata": {},
          "execution_count": 41
        }
      ]
    },
    {
      "cell_type": "code",
      "source": [
        "def sex_survival(df):\n",
        "  \"\"\"\n",
        "    Probability Females Survived v. Males survive (Conditional Probability)\n",
        "\n",
        "    @p:\n",
        "      df (dataframe): Input dataframe\n",
        "  \"\"\"\n",
        "  df['Survival'] = np.where(df['Survived']==0, 'Died', 'Survived')\n",
        "\n",
        "  survival_sx_df=df[['Survival', 'Sex', 'PassengerId']].groupby(['Sex','Survival']).count()\n",
        "\n",
        "  survival_sx_df.reset_index(inplace=True)\n",
        "\n",
        "  survival_sx_df.rename(columns={\"PassengerId\": \"Count Survived\"}, inplace=True)\n",
        "\n",
        "  sx_df=df[['Sex', 'PassengerId']].groupby(['Sex']).count()\n",
        "\n",
        "  sx_df.reset_index(inplace=True)\n",
        "\n",
        "  sx_df.rename(columns={\"PassengerId\": \"Count\"}, inplace=True)\n",
        "\n",
        "  sx_survival_df=pd.merge(survival_sx_df,sx_df,on=\"Sex\")\n",
        "\n",
        "  sx_survival_df[\"Survival Rate\"]=round((sx_survival_df[\"Count Survived\"]/sx_survival_df[\"Count\"])*100,0)\n",
        "\n",
        "  sns.barplot(data=sx_survival_df, x=\"Survival\", y=\"Survival Rate\", hue=\"Sex\", palette=\"pastel\")\n",
        "\n",
        "  plt.savefig(\"/content/drive/MyDrive/Colab Notebooks/titanicPrediction/output/sex_survival_rate.png\")\n",
        "\n",
        "sex_survival(X)\n"
      ],
      "metadata": {
        "colab": {
          "base_uri": "https://localhost:8080/",
          "height": 449
        },
        "id": "6C4IgXoG0R9U",
        "outputId": "b080af63-4f93-4cbd-ea5b-e20a29c81cbe"
      },
      "execution_count": 54,
      "outputs": [
        {
          "output_type": "display_data",
          "data": {
            "text/plain": [
              "<Figure size 640x480 with 1 Axes>"
            ],
            "image/png": "[encoded data removed]"
          },
          "metadata": {}
        }
      ]
    },
    {
      "cell_type": "code",
      "source": [
        "#Number of Adults (Age 16) who Survived the titanic crash\n",
        "\n",
        "#Distribution of fares"
      ],
      "metadata": {
        "id": "51w4qGwq1iwQ"
      },
      "execution_count": null,
      "outputs": []
    },
    {
      "cell_type": "markdown",
      "source": [
        "**Feature Engineering**\n"
      ],
      "metadata": {
        "id": "b5Ct33g8XZEg"
      }
    },
    {
      "cell_type": "code",
      "source": [
        "def adult_flag(df):\n",
        "  \"\"\"\n",
        "    Children and adults may have different survival rates.\n",
        "    Remove Age column\n",
        "    @p:\n",
        "    df (df): dataframe of input data\n",
        "\n",
        "    @r: dataframe with adult flag\n",
        "  \"\"\"\n",
        "  df['adult_flag']=np.where((df['Age']>16), 1, 0)\n",
        "  X.drop(['Age'], axis=1,inplace=True)\n",
        "  return df\n",
        "\n",
        "def family_sz(df):\n",
        "  \"\"\"\n",
        "    Family size (parents and children)\n",
        "    @p:\n",
        "    df (df): input dataframe\n",
        "\n",
        "    @r: dataframe with family size column. Parents and children columns removed\n",
        "  \"\"\"\n",
        "  df['adult_flag']=np.where((df['Age']>16), 1, 0)\n",
        "  X.drop(['Age'], axis=1,inplace=True)\n",
        "  return df"
      ],
      "metadata": {
        "id": "uE539Uu2qM9J"
      },
      "execution_count": null,
      "outputs": []
    },
    {
      "cell_type": "code",
      "source": [
        "X=adult_flag(X)\n",
        "X.head()"
      ],
      "metadata": {
        "id": "Am1J0p_QMkA3"
      },
      "execution_count": null,
      "outputs": []
    },
    {
      "cell_type": "code",
      "source": [],
      "metadata": {
        "id": "F2Z9Q1dfZyXG"
      },
      "execution_count": null,
      "outputs": []
    }
  ]
}