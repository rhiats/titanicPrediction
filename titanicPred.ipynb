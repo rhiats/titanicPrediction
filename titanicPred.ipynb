{
  "nbformat": 4,
  "nbformat_minor": 0,
  "metadata": {
    "colab": {
      "provenance": [],
      "mount_file_id": "1l88JEgcQ92yi8ssQHa5lqaTzQ07-CwFg",
      "authorship_tag": "ABX9TyP0JI0yN8yL4vLkXSrg0eF4",
      "include_colab_link": true
    },
    "kernelspec": {
      "name": "python3",
      "display_name": "Python 3"
    },
    "language_info": {
      "name": "python"
    }
  },
  "cells": [
    {
      "cell_type": "markdown",
      "metadata": {
        "id": "view-in-github",
        "colab_type": "text"
      },
      "source": [
        "<a href=\"https://colab.research.google.com/github/rhiats/titanicPrediction/blob/main/titanicPred.ipynb\" target=\"_parent\"><img src=\"https://colab.research.google.com/assets/colab-badge.svg\" alt=\"Open In Colab\"/></a>"
      ]
    },
    {
      "cell_type": "markdown",
      "source": [
        "**Titanic - Machine Learning from Disaster**\n",
        "\n",
        "References:\n",
        "\n",
        "https://www.kaggle.com/competitions/titanic/data\n",
        "\n"
      ],
      "metadata": {
        "id": "Iidn9Mi9ChEK"
      }
    },
    {
      "cell_type": "code",
      "source": [
        "import pandas as pd\n",
        "import seaborn as sns\n",
        "import numpy as np\n",
        "import matplotlib.pyplot as plt"
      ],
      "metadata": {
        "id": "I4hj7nd2G8I5"
      },
      "execution_count": null,
      "outputs": []
    },
    {
      "cell_type": "markdown",
      "source": [
        "**Exploring the Training Set**\n",
        "\n",
        "The are 891 passengers in the dataset. The dataset is relatively balanced with 40% of the passengers survival the catastrophe."
      ],
      "metadata": {
        "id": "d-SEIxaNGyef"
      }
    },
    {
      "cell_type": "code",
      "source": [
        "def duplicates(df,cols_lst):\n",
        "  \"\"\"\n",
        "    Return df of duplicate rows across specified across columns\n",
        "    https://www.statology.org/pandas-find-duplicates/\n",
        "\n",
        "    @p:\n",
        "    df (df): dataframe containing rows and columns (not empty)\n",
        "    cols (list): list of columns to ck for duplicates\n",
        "\n",
        "    @r:\n",
        "    dups_df (df): Dataframe containing the duplicate rows\n",
        "  \"\"\"\n",
        "\n",
        "  return df[df.duplicated(cols_lst)]"
      ],
      "metadata": {
        "id": "1zYminMHLoMJ"
      },
      "execution_count": null,
      "outputs": []
    },
    {
      "cell_type": "code",
      "source": [
        "X=pd.read_csv(\"/content/drive/MyDrive/Colab Notebooks/titanicPrediction/input/train.csv\")\n",
        "y=X.Survived\n",
        "dupPassengers_df=duplicates(X,['PassengerId'])"
      ],
      "metadata": {
        "id": "J4rRsyggCpNo"
      },
      "execution_count": null,
      "outputs": []
    },
    {
      "cell_type": "code",
      "source": [
        "print(\"The are {} duplicated passengers in the dataset\".format(int(dupPassengers_df.shape[0])))\n",
        "print(\"The are {} passengers in the dataset\".format(int(X.shape[0])))"
      ],
      "metadata": {
        "id": "Bf7MKJIjHiTV"
      },
      "execution_count": null,
      "outputs": []
    },
    {
      "cell_type": "code",
      "source": [
        "#Balanced or Imbalanced Data\n",
        "def balanced(df):\n",
        "  \"\"\"\n",
        "    Percentage of passengers who survive v. not survive in the dataset\n",
        "\n",
        "    @p:\n",
        "      df (dataframe): Input dataframe\n",
        "  \"\"\"\n",
        "  df['Survival'] = np.where(df['Survived']==0, 'Died', 'Survived')\n",
        "\n",
        "  survival_ratio_df=(df[['Survival', 'PassengerId']].groupby('Survival').count()/int(df.shape[0]))*100\n",
        "\n",
        "  survival_ratio_df.reset_index(inplace=True)\n",
        "\n",
        "  survival_ratio_df.rename(columns={\"PassengerId\": \"Relative Frequency (%)\", \"B\": \"c\"}, inplace=True)\n",
        "\n",
        "  sns.barplot(data=survival_ratio_df, x='Survival', y=\"Relative Frequency (%)\", color=\"lightsteelblue\")\n",
        "\n",
        "  plt.savefig(\"/content/drive/MyDrive/Colab Notebooks/titanicPrediction/output/balanced.png\")\n",
        "\n",
        "balanced(X)"
      ],
      "metadata": {
        "id": "nulOC0knIMdL"
      },
      "execution_count": null,
      "outputs": []
    },
    {
      "cell_type": "code",
      "source": [
        "#Number of unknown data\n",
        "\n",
        "\n",
        "#Number of Females the Survived v. Males\n",
        "\n",
        "#Number of Adults (Age 16) who Survived the titanic crash\n",
        "\n",
        "#Distribution of fares\n",
        "\n",
        "#Drop columns - ['Name', 'Age', 'Ticket', 'Fare', 'Cabin']"
      ],
      "metadata": {
        "id": "R6M5lFgIwpt9"
      },
      "execution_count": null,
      "outputs": []
    },
    {
      "cell_type": "markdown",
      "source": [
        "**Feature Engineering**\n"
      ],
      "metadata": {
        "id": "b5Ct33g8XZEg"
      }
    },
    {
      "cell_type": "code",
      "source": [
        "def adult_flag(df):\n",
        "  \"\"\"\n",
        "    Children and adults may have different survival rates.\n",
        "\n",
        "    @p:\n",
        "    df (df): dataframe of input data\n",
        "\n",
        "    @r: dataframe with adult flag\n",
        "  \"\"\"\n",
        "  df['adult_flag']=np.where((df['Age']>16), 1, 0)\n",
        "\n",
        "  return df"
      ],
      "metadata": {
        "id": "uE539Uu2qM9J"
      },
      "execution_count": null,
      "outputs": []
    },
    {
      "cell_type": "code",
      "source": [
        "X=adult_flag(X)\n",
        "X.head()"
      ],
      "metadata": {
        "id": "Am1J0p_QMkA3"
      },
      "execution_count": null,
      "outputs": []
    },
    {
      "cell_type": "code",
      "source": [],
      "metadata": {
        "id": "F2Z9Q1dfZyXG"
      },
      "execution_count": null,
      "outputs": []
    }
  ]
}