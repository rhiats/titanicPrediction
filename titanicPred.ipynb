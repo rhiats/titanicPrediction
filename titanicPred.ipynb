{
  "nbformat": 4,
  "nbformat_minor": 0,
  "metadata": {
    "colab": {
      "provenance": [],
      "mount_file_id": "1l88JEgcQ92yi8ssQHa5lqaTzQ07-CwFg",
      "authorship_tag": "ABX9TyOeWrM6OlQCmK6Mz9V1QX8d",
      "include_colab_link": true
    },
    "kernelspec": {
      "name": "python3",
      "display_name": "Python 3"
    },
    "language_info": {
      "name": "python"
    }
  },
  "cells": [
    {
      "cell_type": "markdown",
      "metadata": {
        "id": "view-in-github",
        "colab_type": "text"
      },
      "source": [
        "<a href=\"https://colab.research.google.com/github/rhiats/titanicPrediction/blob/main/titanicPred.ipynb\" target=\"_parent\"><img src=\"https://colab.research.google.com/assets/colab-badge.svg\" alt=\"Open In Colab\"/></a>"
      ]
    },
    {
      "cell_type": "markdown",
      "source": [
        "**Titanic - Machine Learning from Disaster**\n",
        "\n",
        "References:\n",
        "\n",
        "https://www.kaggle.com/competitions/titanic/data\n",
        "\n",
        "https://towardsdatascience.com/a-beginners-guide-to-kaggle-s-titanic-problem-3193cb56f6ca\n",
        "\n",
        "https://web.stanford.edu/class/archive/cs/cs109/cs109.1166/problem12.html\n",
        "\n",
        "https://anelmusic13.medium.com/how-to-score-top-3-in-kaggles-titanic-machine-learning-from-disaster-competition-13d056e262b1\n"
      ],
      "metadata": {
        "id": "Iidn9Mi9ChEK"
      }
    },
    {
      "cell_type": "code",
      "source": [
        "import pandas as pd\n",
        "import seaborn as sns\n",
        "import numpy as np\n",
        "import matplotlib.pyplot as plt"
      ],
      "metadata": {
        "id": "I4hj7nd2G8I5"
      },
      "execution_count": 36,
      "outputs": []
    },
    {
      "cell_type": "markdown",
      "source": [
        "**Exploring the Training Set**\n",
        "\n",
        "The are 891 passengers in the dataset. It is relatively balanced with 40% of the passengers surviving the catastrophe. The dataset is skewed towards males, with 80% of the data composed of male passengers. There were more males included in this Titanic dataset than females.\n",
        "\n",
        "Only three of the columns are missing values. The three columns are Ages, Cabin, and Embarked. There are 177 passengers missing Ages, 687 missing Cabin numbers, and 2 missing from Embarked.\n",
        "\n",
        "It is more likely that a female survives the crash than a male. It is equally likely that an adult, a person older than 16, and child survive the crash. Both children and adults have a 40% chance of surviving the incident."
      ],
      "metadata": {
        "id": "d-SEIxaNGyef"
      }
    },
    {
      "cell_type": "code",
      "source": [
        "def duplicates(df,cols_lst):\n",
        "  \"\"\"\n",
        "    Return df of duplicate rows across specified across columns\n",
        "    https://www.statology.org/pandas-find-duplicates/\n",
        "\n",
        "    @p:\n",
        "    df (df): dataframe containing rows and columns (not empty)\n",
        "    cols (list): list of columns to ck for duplicates\n",
        "\n",
        "    @r:\n",
        "    dups_df (df): Dataframe containing the duplicate rows\n",
        "  \"\"\"\n",
        "\n",
        "  return df[df.duplicated(cols_lst)]"
      ],
      "metadata": {
        "id": "1zYminMHLoMJ"
      },
      "execution_count": 37,
      "outputs": []
    },
    {
      "cell_type": "code",
      "source": [
        "X=pd.read_csv(\"/content/drive/MyDrive/Colab Notebooks/titanicPrediction/input/train.csv\")\n",
        "y=X.Survived\n",
        "X.drop(['Name', 'Ticket', 'Cabin','Embarked'], axis=1,inplace=True)\n",
        "dupPassengers_df=duplicates(X,['PassengerId'])"
      ],
      "metadata": {
        "id": "J4rRsyggCpNo"
      },
      "execution_count": 38,
      "outputs": []
    },
    {
      "cell_type": "code",
      "source": [
        "print(X.head())\n",
        "print(\"The are {} duplicated passengers in the dataset\".format(int(dupPassengers_df.shape[0])))\n",
        "print(\"The are {} passengers in the dataset\".format(int(X.shape[0])))"
      ],
      "metadata": {
        "colab": {
          "base_uri": "https://localhost:8080/"
        },
        "id": "Bf7MKJIjHiTV",
        "outputId": "7239f681-9846-478c-ecd0-e9140aefb8ce"
      },
      "execution_count": 39,
      "outputs": [
        {
          "output_type": "stream",
          "name": "stdout",
          "text": [
            "   PassengerId  Survived  Pclass     Sex   Age  SibSp  Parch     Fare\n",
            "0            1         0       3    male  22.0      1      0   7.2500\n",
            "1            2         1       1  female  38.0      1      0  71.2833\n",
            "2            3         1       3  female  26.0      0      0   7.9250\n",
            "3            4         1       1  female  35.0      1      0  53.1000\n",
            "4            5         0       3    male  35.0      0      0   8.0500\n",
            "The are 0 duplicated passengers in the dataset\n",
            "The are 891 passengers in the dataset\n"
          ]
        }
      ]
    },
    {
      "cell_type": "code",
      "source": [
        "def balanced(df):\n",
        "  \"\"\"\n",
        "    Percentage of passengers who survive v. not survive in the dataset\n",
        "    Balanced or Imbalanced Data\n",
        "\n",
        "    @p:\n",
        "      df (dataframe): Input dataframe\n",
        "  \"\"\"\n",
        "  df['Survival'] = np.where(df['Survived']==0, 'Died', 'Survived')\n",
        "\n",
        "  survival_ratio_df=(df[['Survival', 'PassengerId']].groupby('Survival').count()/int(df.shape[0]))*100\n",
        "\n",
        "  survival_ratio_df.reset_index(inplace=True)\n",
        "\n",
        "  survival_ratio_df.rename(columns={\"PassengerId\": \"Relative Frequency (%)\"}, inplace=True)\n",
        "\n",
        "  sns.barplot(data=survival_ratio_df, x='Survival', y=\"Relative Frequency (%)\", palette=\"pastel\")\n",
        "\n",
        "  plt.savefig(\"/content/drive/MyDrive/Colab Notebooks/titanicPrediction/output/balanced.png\")\n",
        "\n",
        "balanced(X)"
      ],
      "metadata": {
        "id": "nulOC0knIMdL",
        "colab": {
          "base_uri": "https://localhost:8080/",
          "height": 449
        },
        "outputId": "9325b5b4-3a76-4c2e-8672-520514cac34f"
      },
      "execution_count": 56,
      "outputs": [
        {
          "output_type": "display_data",
          "data": {
            "text/plain": [
              "<Figure size 640x480 with 1 Axes>"
            ],
            "image/png": "[encoded data removed]"
          },
          "metadata": {}
        }
      ]
    },
    {
      "cell_type": "code",
      "source": [
        "def balanced_sex(df):\n",
        "  \"\"\"\n",
        "    Percentage of passengers by sex\n",
        "    Balanced or Imbalanced Data\n",
        "\n",
        "    @p:\n",
        "      df (dataframe): Input dataframe\n",
        "  \"\"\"\n",
        "\n",
        "  sex_ratio_df=(df[['Sex', 'PassengerId']].groupby('Sex').count()/int(df.shape[0]))*100\n",
        "\n",
        "  sex_ratio_df.reset_index(inplace=True)\n",
        "\n",
        "  sex_ratio_df.rename(columns={\"PassengerId\": \"Relative Frequency (%)\"}, inplace=True)\n",
        "\n",
        "  sns.barplot(data=sex_ratio_df, x='Sex', y=\"Relative Frequency (%)\", palette=\"pastel\")\n",
        "\n",
        "  plt.savefig(\"/content/drive/MyDrive/Colab Notebooks/titanicPrediction/output/balanced_sex.png\")\n",
        "\n",
        "balanced_sex(X)"
      ],
      "metadata": {
        "colab": {
          "base_uri": "https://localhost:8080/",
          "height": 449
        },
        "id": "eaRUYvFQ3z1C",
        "outputId": "1a88e53e-5f5f-4ce8-94b5-4816c43d92fb"
      },
      "execution_count": 55,
      "outputs": [
        {
          "output_type": "display_data",
          "data": {
            "text/plain": [
              "<Figure size 640x480 with 1 Axes>"
            ],
            "image/png": "[encoded data removed]"
          },
          "metadata": {}
        }
      ]
    },
    {
      "cell_type": "code",
      "source": [
        "def nan_num(df):\n",
        "  \"\"\"\n",
        "    Return the number of nans per column in the data set.\n",
        "\n",
        "  \"\"\"\n",
        "  nan_count=df.isna().sum()\n",
        "  return nan_count\n",
        "nan_num(X)"
      ],
      "metadata": {
        "colab": {
          "base_uri": "https://localhost:8080/"
        },
        "id": "R6M5lFgIwpt9",
        "outputId": "d63734be-a11b-4ec3-ea0f-0cbc53397230"
      },
      "execution_count": 57,
      "outputs": [
        {
          "output_type": "execute_result",
          "data": {
            "text/plain": [
              "PassengerId      0\n",
              "Survived         0\n",
              "Pclass           0\n",
              "Sex              0\n",
              "Age            177\n",
              "SibSp            0\n",
              "Parch            0\n",
              "Fare             0\n",
              "Survival         0\n",
              "dtype: int64"
            ]
          },
          "metadata": {},
          "execution_count": 57
        }
      ]
    },
    {
      "cell_type": "code",
      "source": [
        "def sex_survival(df):\n",
        "  \"\"\"\n",
        "    Probability Females Survived v. Males survive (Conditional Probability)\n",
        "\n",
        "    @p:\n",
        "      df (dataframe): Input dataframe\n",
        "  \"\"\"\n",
        "  df['Survival'] = np.where(df['Survived']==0, 'Died', 'Survived')\n",
        "\n",
        "  survival_sx_df=df[['Survival', 'Sex', 'PassengerId']].groupby(['Sex','Survival']).count()\n",
        "\n",
        "  survival_sx_df.reset_index(inplace=True)\n",
        "\n",
        "  survival_sx_df.rename(columns={\"PassengerId\": \"Count Survived\"}, inplace=True)\n",
        "\n",
        "  sx_df=df[['Sex', 'PassengerId']].groupby(['Sex']).count()\n",
        "\n",
        "  sx_df.reset_index(inplace=True)\n",
        "\n",
        "  sx_df.rename(columns={\"PassengerId\": \"Count\"}, inplace=True)\n",
        "\n",
        "  sx_survival_df=pd.merge(survival_sx_df,sx_df,on=\"Sex\")\n",
        "\n",
        "  sx_survival_df[\"Survival Rate\"]=round((sx_survival_df[\"Count Survived\"]/sx_survival_df[\"Count\"])*100,0)\n",
        "\n",
        "  sns.barplot(data=sx_survival_df, x=\"Survival\", y=\"Survival Rate\", hue=\"Sex\", palette=\"pastel\")\n",
        "\n",
        "  plt.savefig(\"/content/drive/MyDrive/Colab Notebooks/titanicPrediction/output/sex_survival_rate.png\")\n",
        "\n",
        "sex_survival(X)\n"
      ],
      "metadata": {
        "colab": {
          "base_uri": "https://localhost:8080/",
          "height": 449
        },
        "id": "6C4IgXoG0R9U",
        "outputId": "b080af63-4f93-4cbd-ea5b-e20a29c81cbe"
      },
      "execution_count": 54,
      "outputs": [
        {
          "output_type": "display_data",
          "data": {
            "text/plain": [
              "<Figure size 640x480 with 1 Axes>"
            ],
            "image/png": "[encoded data removed]"
          },
          "metadata": {}
        }
      ]
    },
    {
      "cell_type": "code",
      "source": [
        "def age_survival(df):\n",
        "  \"\"\"\n",
        "    Probability Adults (Age 16) survive the Titanic crash (Conditional Probability)\n",
        "\n",
        "    @p:\n",
        "      df (dataframe): Input dataframe\n",
        "  \"\"\"\n",
        "  df['Survival'] = np.where(df['Survived']==0, 'Died', 'Survived')\n",
        "\n",
        "  df['Age Classification']=np.where((df['Age']>16), \"Adult\", \"Child\")\n",
        "\n",
        "  survival_age_df=df[['Survival', 'Age Classification', 'PassengerId']].groupby(['Age Classification','Survival']).count()\n",
        "\n",
        "  survival_age_df.reset_index(inplace=True)\n",
        "\n",
        "  survival_age_df.rename(columns={\"PassengerId\": \"Count Survived\"}, inplace=True)\n",
        "\n",
        "  age_df=df[['Age Classification', 'PassengerId']].groupby(['Age Classification']).count()\n",
        "\n",
        "  age_df.reset_index(inplace=True)\n",
        "\n",
        "  age_df.rename(columns={\"PassengerId\": \"Count\"}, inplace=True)\n",
        "\n",
        "  age_survival_df=pd.merge(survival_age_df,age_df,on=\"Age Classification\")\n",
        "\n",
        "  age_survival_df[\"Survival Rate\"]=round((age_survival_df[\"Count Survived\"]/age_survival_df[\"Count\"])*100,0)\n",
        "\n",
        "  sns.barplot(data=age_survival_df, x=\"Survival\", y=\"Survival Rate\", hue=\"Age Classification\", palette=\"pastel\")\n",
        "\n",
        "  plt.savefig(\"/content/drive/MyDrive/Colab Notebooks/titanicPrediction/output/adult_survival_rate.png\")\n",
        "\n",
        "age_survival(X)"
      ],
      "metadata": {
        "id": "51w4qGwq1iwQ",
        "colab": {
          "base_uri": "https://localhost:8080/",
          "height": 449
        },
        "outputId": "25fb6059-88ed-44ba-f415-89cf27fb6930"
      },
      "execution_count": 61,
      "outputs": [
        {
          "output_type": "display_data",
          "data": {
            "text/plain": [
              "<Figure size 640x480 with 1 Axes>"
            ],
            "image/png": "[encoded data removed]"
          },
          "metadata": {}
        }
      ]
    },
    {
      "cell_type": "code",
      "source": [
        "#Distribution of fares"
      ],
      "metadata": {
        "id": "z7A46LsT6bHu"
      },
      "execution_count": 58,
      "outputs": []
    },
    {
      "cell_type": "markdown",
      "source": [
        "**Feature Engineering**\n"
      ],
      "metadata": {
        "id": "b5Ct33g8XZEg"
      }
    },
    {
      "cell_type": "code",
      "source": [
        "def adult_flag(df):\n",
        "  \"\"\"\n",
        "    Children and adults may have different survival rates.\n",
        "    Remove Age column\n",
        "    @p:\n",
        "    df (df): dataframe of input data\n",
        "\n",
        "    @r: dataframe with adult flag\n",
        "  \"\"\"\n",
        "  df['adult_flag']=np.where((df['Age']>16), 1, 0)\n",
        "  X.drop(['Age'], axis=1,inplace=True)\n",
        "  return df\n",
        "\n",
        "def family_sz(df):\n",
        "  \"\"\"\n",
        "    Family size (parents and children)\n",
        "    @p:\n",
        "    df (df): input dataframe\n",
        "\n",
        "    @r: dataframe with family size column. Parents and children columns removed\n",
        "  \"\"\"\n",
        "  df['adult_flag']=np.where((df['Age']>16), 1, 0)\n",
        "  X.drop(['Age'], axis=1,inplace=True)\n",
        "  return df"
      ],
      "metadata": {
        "id": "uE539Uu2qM9J"
      },
      "execution_count": null,
      "outputs": []
    },
    {
      "cell_type": "code",
      "source": [
        "X=adult_flag(X)\n",
        "X.head()"
      ],
      "metadata": {
        "id": "Am1J0p_QMkA3"
      },
      "execution_count": null,
      "outputs": []
    },
    {
      "cell_type": "code",
      "source": [],
      "metadata": {
        "id": "F2Z9Q1dfZyXG"
      },
      "execution_count": null,
      "outputs": []
    }
  ]
}