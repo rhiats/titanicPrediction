{
  "nbformat": 4,
  "nbformat_minor": 0,
  "metadata": {
    "colab": {
      "provenance": [],
      "mount_file_id": "1l88JEgcQ92yi8ssQHa5lqaTzQ07-CwFg",
      "authorship_tag": "ABX9TyPyzA/wAogYORKNTZIhrKwF",
      "include_colab_link": true
    },
    "kernelspec": {
      "name": "python3",
      "display_name": "Python 3"
    },
    "language_info": {
      "name": "python"
    }
  },
  "cells": [
    {
      "cell_type": "markdown",
      "metadata": {
        "id": "view-in-github",
        "colab_type": "text"
      },
      "source": [
        "<a href=\"https://colab.research.google.com/github/rhiats/titanicPrediction/blob/main/titanicPred.ipynb\" target=\"_parent\"><img src=\"https://colab.research.google.com/assets/colab-badge.svg\" alt=\"Open In Colab\"/></a>"
      ]
    },
    {
      "cell_type": "markdown",
      "source": [
        "**Titanic - Machine Learning from Disaster**\n",
        "\n",
        "References:\n",
        "\n",
        "https://www.kaggle.com/competitions/titanic/data\n",
        "\n",
        "https://towardsdatascience.com/a-beginners-guide-to-kaggle-s-titanic-problem-3193cb56f6ca\n",
        "\n",
        "https://web.stanford.edu/class/archive/cs/cs109/cs109.1166/problem12.html\n",
        "\n",
        "https://anelmusic13.medium.com/how-to-score-top-3-in-kaggles-titanic-machine-learning-from-disaster-competition-13d056e262b1\n"
      ],
      "metadata": {
        "id": "Iidn9Mi9ChEK"
      }
    },
    {
      "cell_type": "code",
      "source": [
        "import pandas as pd\n",
        "import seaborn as sns\n",
        "import numpy as np\n",
        "import matplotlib.pyplot as plt"
      ],
      "metadata": {
        "id": "I4hj7nd2G8I5"
      },
      "execution_count": 9,
      "outputs": []
    },
    {
      "cell_type": "markdown",
      "source": [
        "**Exploring the Training Set**\n",
        "\n",
        "The are 891 passengers in the dataset. The dataset is relatively balanced with 40% of the passengers survival the catastrophe.\n",
        "\n",
        "Only three of the columns are missing values. The three columns are Ages, Cabin, and Embarked. There are 177 passengers missing Ages, 687 missing Cabin numbers, and 2 missing from Embarked."
      ],
      "metadata": {
        "id": "d-SEIxaNGyef"
      }
    },
    {
      "cell_type": "code",
      "source": [
        "def duplicates(df,cols_lst):\n",
        "  \"\"\"\n",
        "    Return df of duplicate rows across specified across columns\n",
        "    https://www.statology.org/pandas-find-duplicates/\n",
        "\n",
        "    @p:\n",
        "    df (df): dataframe containing rows and columns (not empty)\n",
        "    cols (list): list of columns to ck for duplicates\n",
        "\n",
        "    @r:\n",
        "    dups_df (df): Dataframe containing the duplicate rows\n",
        "  \"\"\"\n",
        "\n",
        "  return df[df.duplicated(cols_lst)]"
      ],
      "metadata": {
        "id": "1zYminMHLoMJ"
      },
      "execution_count": 10,
      "outputs": []
    },
    {
      "cell_type": "code",
      "source": [
        "X=pd.read_csv(\"/content/drive/MyDrive/Colab Notebooks/titanicPrediction/input/train.csv\")\n",
        "y=X.Survived\n",
        "X.drop(['Name', 'Ticket', 'Cabin','Embarked'], axis=1,inplace=True)\n",
        "dupPassengers_df=duplicates(X,['PassengerId'])"
      ],
      "metadata": {
        "id": "J4rRsyggCpNo"
      },
      "execution_count": 11,
      "outputs": []
    },
    {
      "cell_type": "code",
      "source": [
        "print(X.head())\n",
        "print(\"The are {} duplicated passengers in the dataset\".format(int(dupPassengers_df.shape[0])))\n",
        "print(\"The are {} passengers in the dataset\".format(int(X.shape[0])))"
      ],
      "metadata": {
        "colab": {
          "base_uri": "https://localhost:8080/"
        },
        "id": "Bf7MKJIjHiTV",
        "outputId": "d4733dc1-a467-46d4-eb2a-46801e15fd50"
      },
      "execution_count": 12,
      "outputs": [
        {
          "output_type": "stream",
          "name": "stdout",
          "text": [
            "   PassengerId  Survived  Pclass     Sex   Age  SibSp  Parch     Fare\n",
            "0            1         0       3    male  22.0      1      0   7.2500\n",
            "1            2         1       1  female  38.0      1      0  71.2833\n",
            "2            3         1       3  female  26.0      0      0   7.9250\n",
            "3            4         1       1  female  35.0      1      0  53.1000\n",
            "4            5         0       3    male  35.0      0      0   8.0500\n",
            "The are 0 duplicated passengers in the dataset\n",
            "The are 891 passengers in the dataset\n"
          ]
        }
      ]
    },
    {
      "cell_type": "code",
      "source": [
        "#Balanced or Imbalanced Data\n",
        "def balanced(df):\n",
        "  \"\"\"\n",
        "    Percentage of passengers who survive v. not survive in the dataset\n",
        "\n",
        "    @p:\n",
        "      df (dataframe): Input dataframe\n",
        "  \"\"\"\n",
        "  df['Survival'] = np.where(df['Survived']==0, 'Died', 'Survived')\n",
        "\n",
        "  survival_ratio_df=(df[['Survival', 'PassengerId']].groupby('Survival').count()/int(df.shape[0]))*100\n",
        "\n",
        "  survival_ratio_df.reset_index(inplace=True)\n",
        "\n",
        "  survival_ratio_df.rename(columns={\"PassengerId\": \"Relative Frequency (%)\", \"B\": \"c\"}, inplace=True)\n",
        "\n",
        "  sns.barplot(data=survival_ratio_df, x='Survival', y=\"Relative Frequency (%)\", color=\"lightsteelblue\")\n",
        "\n",
        "  plt.savefig(\"/content/drive/MyDrive/Colab Notebooks/titanicPrediction/output/balanced.png\")\n",
        "\n",
        "balanced(X)"
      ],
      "metadata": {
        "id": "nulOC0knIMdL",
        "colab": {
          "base_uri": "https://localhost:8080/",
          "height": 449
        },
        "outputId": "384fc6d0-1ed8-4496-d312-f7ebad06493b"
      },
      "execution_count": 13,
      "outputs": [
        {
          "output_type": "display_data",
          "data": {
            "text/plain": [
              "<Figure size 640x480 with 1 Axes>"
            ],
            "image/png": "[encoded data removed]"
          },
          "metadata": {}
        }
      ]
    },
    {
      "cell_type": "code",
      "source": [
        "#Number of unknown data\n",
        "def nan_num(df):\n",
        "  \"\"\"\n",
        "    Return the number of nans per column in the data set.\n",
        "\n",
        "  \"\"\"\n",
        "  nan_count=df.isna().sum()\n",
        "  return nan_count\n",
        "nan_num(X)"
      ],
      "metadata": {
        "colab": {
          "base_uri": "https://localhost:8080/"
        },
        "id": "R6M5lFgIwpt9",
        "outputId": "61451d87-f85c-4f8c-caeb-920985caa917"
      },
      "execution_count": 14,
      "outputs": [
        {
          "output_type": "execute_result",
          "data": {
            "text/plain": [
              "PassengerId      0\n",
              "Survived         0\n",
              "Pclass           0\n",
              "Sex              0\n",
              "Age            177\n",
              "SibSp            0\n",
              "Parch            0\n",
              "Fare             0\n",
              "Survival         0\n",
              "dtype: int64"
            ]
          },
          "metadata": {},
          "execution_count": 14
        }
      ]
    },
    {
      "cell_type": "code",
      "source": [
        "def sex_survival(df):\n",
        "  \"\"\"\n",
        "    Probability Females Survived v. Males survive (Conditional Probability)\n",
        "\n",
        "    @p:\n",
        "      df (dataframe): Input dataframe\n",
        "  \"\"\"\n",
        "  df['Survival'] = np.where(df['Survived']==0, 'Died', 'Survived')\n",
        "\n",
        "  survival_sx_df=df[['Survival', 'Sex', 'PassengerId']].groupby(['Sex','Survival']).count()\n",
        "\n",
        "  survival_sx_df.reset_index(inplace=True)\n",
        "\n",
        "  survival_sx_df.rename(columns={\"PassengerId\": \"Count Survived\"}, inplace=True)\n",
        "\n",
        "  sx_df=df[['Sex', 'PassengerId']].groupby(['Sex']).count()\n",
        "\n",
        "  sx_df.reset_index(inplace=True)\n",
        "\n",
        "  sx_df.rename(columns={\"PassengerId\": \"Count\"}, inplace=True)\n",
        "\n",
        "  sx_survival_df=pd.merge(survival_sx_df,sx_df,on=\"Sex\")\n",
        "\n",
        "  sx_survival_df[\"Survival Rate\"]=round((sx_survival_df[\"Count Survived\"]/sx_survival_df[\"Count\"])*100,0)\n",
        "\n",
        "  print(sx_survival_df)\n",
        "\n",
        "  return sx_survival_df\n",
        "\n",
        "sx_survival_df=sex_survival(X)\n",
        "\n",
        "sns.barplot(sx_survival_df, x=\"Survival\", y=\"Sex\", hue=\"Sex\")\n"
      ],
      "metadata": {
        "colab": {
          "base_uri": "https://localhost:8080/",
          "height": 460
        },
        "id": "6C4IgXoG0R9U",
        "outputId": "220c9333-be52-40fb-da88-e5b7c762f0f3"
      },
      "execution_count": 35,
      "outputs": [
        {
          "output_type": "stream",
          "name": "stdout",
          "text": [
            "      Sex  Survival  Count Survived  Count  Survival Rate\n",
            "0  female      Died              81    314           26.0\n",
            "1  female  Survived             233    314           74.0\n",
            "2    male      Died             468    577           81.0\n",
            "3    male  Survived             109    577           19.0\n"
          ]
        },
        {
          "output_type": "error",
          "ename": "TypeError",
          "evalue": "ignored",
          "traceback": [
            "\u001b[0;31m---------------------------------------------------------------------------\u001b[0m",
            "\u001b[0;31mTypeError\u001b[0m                                 Traceback (most recent call last)",
            "\u001b[0;32m<ipython-input-35-e54d9ba2ee4d>\u001b[0m in \u001b[0;36m<cell line: 32>\u001b[0;34m()\u001b[0m\n\u001b[1;32m     30\u001b[0m \u001b[0msx_survival_df\u001b[0m\u001b[0;34m=\u001b[0m\u001b[0msex_survival\u001b[0m\u001b[0;34m(\u001b[0m\u001b[0mX\u001b[0m\u001b[0;34m)\u001b[0m\u001b[0;34m\u001b[0m\u001b[0;34m\u001b[0m\u001b[0m\n\u001b[1;32m     31\u001b[0m \u001b[0;34m\u001b[0m\u001b[0m\n\u001b[0;32m---> 32\u001b[0;31m \u001b[0msns\u001b[0m\u001b[0;34m.\u001b[0m\u001b[0mbarplot\u001b[0m\u001b[0;34m(\u001b[0m\u001b[0msx_survival_df\u001b[0m\u001b[0;34m,\u001b[0m \u001b[0mx\u001b[0m\u001b[0;34m=\u001b[0m\u001b[0;34m\"Survival\"\u001b[0m\u001b[0;34m,\u001b[0m \u001b[0my\u001b[0m\u001b[0;34m=\u001b[0m\u001b[0;34m\"Sex\"\u001b[0m\u001b[0;34m,\u001b[0m \u001b[0mhue\u001b[0m\u001b[0;34m=\u001b[0m\u001b[0;34m\"Sex\"\u001b[0m\u001b[0;34m)\u001b[0m\u001b[0;34m\u001b[0m\u001b[0;34m\u001b[0m\u001b[0m\n\u001b[0m",
            "\u001b[0;32m/usr/local/lib/python3.10/dist-packages/seaborn/categorical.py\u001b[0m in \u001b[0;36mbarplot\u001b[0;34m(data, x, y, hue, order, hue_order, estimator, errorbar, n_boot, units, seed, orient, color, palette, saturation, width, errcolor, errwidth, capsize, dodge, ci, ax, **kwargs)\u001b[0m\n\u001b[1;32m   2753\u001b[0m         \u001b[0mestimator\u001b[0m \u001b[0;34m=\u001b[0m \u001b[0;34m\"size\"\u001b[0m\u001b[0;34m\u001b[0m\u001b[0;34m\u001b[0m\u001b[0m\n\u001b[1;32m   2754\u001b[0m \u001b[0;34m\u001b[0m\u001b[0m\n\u001b[0;32m-> 2755\u001b[0;31m     plotter = _BarPlotter(x, y, hue, data, order, hue_order,\n\u001b[0m\u001b[1;32m   2756\u001b[0m                           \u001b[0mestimator\u001b[0m\u001b[0;34m,\u001b[0m \u001b[0merrorbar\u001b[0m\u001b[0;34m,\u001b[0m \u001b[0mn_boot\u001b[0m\u001b[0;34m,\u001b[0m \u001b[0munits\u001b[0m\u001b[0;34m,\u001b[0m \u001b[0mseed\u001b[0m\u001b[0;34m,\u001b[0m\u001b[0;34m\u001b[0m\u001b[0;34m\u001b[0m\u001b[0m\n\u001b[1;32m   2757\u001b[0m                           \u001b[0morient\u001b[0m\u001b[0;34m,\u001b[0m \u001b[0mcolor\u001b[0m\u001b[0;34m,\u001b[0m \u001b[0mpalette\u001b[0m\u001b[0;34m,\u001b[0m \u001b[0msaturation\u001b[0m\u001b[0;34m,\u001b[0m\u001b[0;34m\u001b[0m\u001b[0;34m\u001b[0m\u001b[0m\n",
            "\u001b[0;32m/usr/local/lib/python3.10/dist-packages/seaborn/categorical.py\u001b[0m in \u001b[0;36m__init__\u001b[0;34m(self, x, y, hue, data, order, hue_order, estimator, errorbar, n_boot, units, seed, orient, color, palette, saturation, width, errcolor, errwidth, capsize, dodge)\u001b[0m\n\u001b[1;32m   1528\u001b[0m                  errcolor, errwidth, capsize, dodge):\n\u001b[1;32m   1529\u001b[0m         \u001b[0;34m\"\"\"Initialize the plotter.\"\"\"\u001b[0m\u001b[0;34m\u001b[0m\u001b[0;34m\u001b[0m\u001b[0m\n\u001b[0;32m-> 1530\u001b[0;31m         self.establish_variables(x, y, hue, data, orient,\n\u001b[0m\u001b[1;32m   1531\u001b[0m                                  order, hue_order, units)\n\u001b[1;32m   1532\u001b[0m         \u001b[0mself\u001b[0m\u001b[0;34m.\u001b[0m\u001b[0mestablish_colors\u001b[0m\u001b[0;34m(\u001b[0m\u001b[0mcolor\u001b[0m\u001b[0;34m,\u001b[0m \u001b[0mpalette\u001b[0m\u001b[0;34m,\u001b[0m \u001b[0msaturation\u001b[0m\u001b[0;34m)\u001b[0m\u001b[0;34m\u001b[0m\u001b[0;34m\u001b[0m\u001b[0m\n",
            "\u001b[0;32m/usr/local/lib/python3.10/dist-packages/seaborn/categorical.py\u001b[0m in \u001b[0;36mestablish_variables\u001b[0;34m(self, x, y, hue, data, orient, order, hue_order, units)\u001b[0m\n\u001b[1;32m    542\u001b[0m \u001b[0;34m\u001b[0m\u001b[0m\n\u001b[1;32m    543\u001b[0m             \u001b[0;31m# Figure out the plotting orientation\u001b[0m\u001b[0;34m\u001b[0m\u001b[0;34m\u001b[0m\u001b[0m\n\u001b[0;32m--> 544\u001b[0;31m             orient = infer_orient(\n\u001b[0m\u001b[1;32m    545\u001b[0m                 \u001b[0mx\u001b[0m\u001b[0;34m,\u001b[0m \u001b[0my\u001b[0m\u001b[0;34m,\u001b[0m \u001b[0morient\u001b[0m\u001b[0;34m,\u001b[0m \u001b[0mrequire_numeric\u001b[0m\u001b[0;34m=\u001b[0m\u001b[0mself\u001b[0m\u001b[0;34m.\u001b[0m\u001b[0mrequire_numeric\u001b[0m\u001b[0;34m\u001b[0m\u001b[0;34m\u001b[0m\u001b[0m\n\u001b[1;32m    546\u001b[0m             )\n",
            "\u001b[0;32m/usr/local/lib/python3.10/dist-packages/seaborn/_oldcore.py\u001b[0m in \u001b[0;36minfer_orient\u001b[0;34m(x, y, orient, require_numeric)\u001b[0m\n\u001b[1;32m   1630\u001b[0m     \u001b[0;32melif\u001b[0m \u001b[0mrequire_numeric\u001b[0m \u001b[0;32mand\u001b[0m \u001b[0;34m\"numeric\"\u001b[0m \u001b[0;32mnot\u001b[0m \u001b[0;32min\u001b[0m \u001b[0;34m(\u001b[0m\u001b[0mx_type\u001b[0m\u001b[0;34m,\u001b[0m \u001b[0my_type\u001b[0m\u001b[0;34m)\u001b[0m\u001b[0;34m:\u001b[0m\u001b[0;34m\u001b[0m\u001b[0;34m\u001b[0m\u001b[0m\n\u001b[1;32m   1631\u001b[0m         \u001b[0merr\u001b[0m \u001b[0;34m=\u001b[0m \u001b[0;34m\"Neither the `x` nor `y` variable appears to be numeric.\"\u001b[0m\u001b[0;34m\u001b[0m\u001b[0;34m\u001b[0m\u001b[0m\n\u001b[0;32m-> 1632\u001b[0;31m         \u001b[0;32mraise\u001b[0m \u001b[0mTypeError\u001b[0m\u001b[0;34m(\u001b[0m\u001b[0merr\u001b[0m\u001b[0;34m)\u001b[0m\u001b[0;34m\u001b[0m\u001b[0;34m\u001b[0m\u001b[0m\n\u001b[0m\u001b[1;32m   1633\u001b[0m \u001b[0;34m\u001b[0m\u001b[0m\n\u001b[1;32m   1634\u001b[0m     \u001b[0;32melse\u001b[0m\u001b[0;34m:\u001b[0m\u001b[0;34m\u001b[0m\u001b[0;34m\u001b[0m\u001b[0m\n",
            "\u001b[0;31mTypeError\u001b[0m: Neither the `x` nor `y` variable appears to be numeric."
          ]
        }
      ]
    },
    {
      "cell_type": "code",
      "source": [
        "sex_survival_plot = pd.DataFrame({'Male': [53, 12],\n",
        "                        'Female': [72, 80], },\n",
        "                      index=['Died', 'Survived'])\n",
        "\n",
        "survival_ratio__sx_df.plot(kind='bar', stacked=True, color=['navy', 'lightsteelblue'])\n",
        "\n",
        "  #plt.title('Intermediate Students Pass %')\n",
        "  #plt.xlabel('Year')\n",
        "  #plt.ylabel('Percentage Ranges')\n",
        "\n",
        "  #plt.savefig(\"/content/drive/MyDrive/Colab Notebooks/titanicPrediction/output/survival_sex.png\")"
      ],
      "metadata": {
        "id": "_HspL2ir_Iz0",
        "colab": {
          "base_uri": "https://localhost:8080/",
          "height": 263
        },
        "outputId": "c3561b5b-4cab-4135-e371-414694d96ce3"
      },
      "execution_count": 16,
      "outputs": [
        {
          "output_type": "error",
          "ename": "NameError",
          "evalue": "ignored",
          "traceback": [
            "\u001b[0;31m---------------------------------------------------------------------------\u001b[0m",
            "\u001b[0;31mNameError\u001b[0m                                 Traceback (most recent call last)",
            "\u001b[0;32m<ipython-input-16-57c406fb0bb4>\u001b[0m in \u001b[0;36m<cell line: 5>\u001b[0;34m()\u001b[0m\n\u001b[1;32m      3\u001b[0m                       index=['Died', 'Survived'])\n\u001b[1;32m      4\u001b[0m \u001b[0;34m\u001b[0m\u001b[0m\n\u001b[0;32m----> 5\u001b[0;31m \u001b[0msurvival_ratio__sx_df\u001b[0m\u001b[0;34m.\u001b[0m\u001b[0mplot\u001b[0m\u001b[0;34m(\u001b[0m\u001b[0mkind\u001b[0m\u001b[0;34m=\u001b[0m\u001b[0;34m'bar'\u001b[0m\u001b[0;34m,\u001b[0m \u001b[0mstacked\u001b[0m\u001b[0;34m=\u001b[0m\u001b[0;32mTrue\u001b[0m\u001b[0;34m,\u001b[0m \u001b[0mcolor\u001b[0m\u001b[0;34m=\u001b[0m\u001b[0;34m[\u001b[0m\u001b[0;34m'navy'\u001b[0m\u001b[0;34m,\u001b[0m \u001b[0;34m'lightsteelblue'\u001b[0m\u001b[0;34m]\u001b[0m\u001b[0;34m)\u001b[0m\u001b[0;34m\u001b[0m\u001b[0;34m\u001b[0m\u001b[0m\n\u001b[0m\u001b[1;32m      6\u001b[0m \u001b[0;34m\u001b[0m\u001b[0m\n\u001b[1;32m      7\u001b[0m   \u001b[0;31m#plt.title('Intermediate Students Pass %')\u001b[0m\u001b[0;34m\u001b[0m\u001b[0;34m\u001b[0m\u001b[0m\n",
            "\u001b[0;31mNameError\u001b[0m: name 'survival_ratio__sx_df' is not defined"
          ]
        }
      ]
    },
    {
      "cell_type": "code",
      "source": [
        "#Number of Adults (Age 16) who Survived the titanic crash\n",
        "\n",
        "#Distribution of fares"
      ],
      "metadata": {
        "id": "51w4qGwq1iwQ"
      },
      "execution_count": null,
      "outputs": []
    },
    {
      "cell_type": "markdown",
      "source": [
        "**Feature Engineering**\n"
      ],
      "metadata": {
        "id": "b5Ct33g8XZEg"
      }
    },
    {
      "cell_type": "code",
      "source": [
        "def adult_flag(df):\n",
        "  \"\"\"\n",
        "    Children and adults may have different survival rates.\n",
        "    Remove Age column\n",
        "    @p:\n",
        "    df (df): dataframe of input data\n",
        "\n",
        "    @r: dataframe with adult flag\n",
        "  \"\"\"\n",
        "  df['adult_flag']=np.where((df['Age']>16), 1, 0)\n",
        "  X.drop(['Age'], axis=1,inplace=True)\n",
        "  return df\n",
        "\n",
        "def family_sz(df):\n",
        "  \"\"\"\n",
        "    Family size (parents and children)\n",
        "    @p:\n",
        "    df (df): input dataframe\n",
        "\n",
        "    @r: dataframe with family size column. Parents and children columns removed\n",
        "  \"\"\"\n",
        "  df['adult_flag']=np.where((df['Age']>16), 1, 0)\n",
        "  X.drop(['Age'], axis=1,inplace=True)\n",
        "  return df"
      ],
      "metadata": {
        "id": "uE539Uu2qM9J"
      },
      "execution_count": null,
      "outputs": []
    },
    {
      "cell_type": "code",
      "source": [
        "X=adult_flag(X)\n",
        "X.head()"
      ],
      "metadata": {
        "id": "Am1J0p_QMkA3"
      },
      "execution_count": null,
      "outputs": []
    },
    {
      "cell_type": "code",
      "source": [],
      "metadata": {
        "id": "F2Z9Q1dfZyXG"
      },
      "execution_count": null,
      "outputs": []
    }
  ]
}